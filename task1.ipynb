{
 "cells": [
  {
   "cell_type": "code",
   "execution_count": 1,
   "id": "9b18e268-0e04-4a7e-9268-b2fd85965fca",
   "metadata": {},
   "outputs": [
    {
     "name": "stdout",
     "output_type": "stream",
     "text": [
      "The original list : [1, 2, 3, 4, 5]\n",
      "The Updated list : [10, 2, 4, 5, 6]\n"
     ]
    }
   ],
   "source": [
    "#creating a list \n",
    "my_list= [1,2,3,4,5]\n",
    "\n",
    "print(\"The original list :\",my_list)\n",
    "\n",
    "#adding an element to the list \n",
    "my_list.append(6)\n",
    "\n",
    "#removing an element \n",
    "\n",
    "my_list.remove(3)\n",
    "\n",
    "#Modifiying the list \n",
    "my_list[0]=10\n",
    "\n",
    "print(\"The Updated list :\",my_list)"
   ]
  },
  {
   "cell_type": "code",
   "execution_count": 1,
   "id": "0479f2f5-6421-4376-af98-cc139013323a",
   "metadata": {},
   "outputs": [
    {
     "name": "stdout",
     "output_type": "stream",
     "text": [
      "The origional set : {1, 2, 3, 4}\n",
      " The Updated set : {2, 4, 5, 10}\n"
     ]
    }
   ],
   "source": [
    "#creating a set \n",
    "\n",
    "my_set= {1,2,3,4}\n",
    "\n",
    "print(\"The origional set :\",my_set)\n",
    "\n",
    "#Adding a element to the set \n",
    "\n",
    "my_set.add(5)\n",
    "\n",
    "#Removing a element in the set \n",
    "\n",
    "my_set.remove(3)\n",
    "\n",
    "#modifiying a set \n",
    "\n",
    "my_set.discard(1)\n",
    "my_set.add(10)\n",
    "\n",
    "print(\" The Updated set :\",my_set)\n"
   ]
  },
  {
   "cell_type": "code",
   "execution_count": 2,
   "id": "37e6f7da-7e12-48fd-b64e-00a1866053aa",
   "metadata": {},
   "outputs": [
    {
     "name": "stdout",
     "output_type": "stream",
     "text": [
      "The original dictionary: {'name': 'sudhaim', 'Age': '20', 'City': 'trichy'}\n",
      "The Updated dictionary : {'name': 'sudhaim', 'Age': '20', 'City': 'Mumbai', 'gender': 'Male'}\n"
     ]
    }
   ],
   "source": [
    "#Creating a Dictionary\n",
    "\n",
    "my_dict= {'name':'sudhaim','Age':'20','City':'trichy'}\n",
    "print(\"The original dictionary:\",my_dict)\n",
    "\n",
    "#adding a value to the dictionary \n",
    "my_dict['gender']='Male'\n",
    "\n",
    "\n",
    "#Removing a value to the dictionary \n",
    "my_dict['Age']\n",
    "\n",
    "#modifying a dictionary \n",
    "\n",
    "my_dict['City']='Mumbai'\n",
    "\n",
    "print(\"The Updated dictionary :\",my_dict)\n",
    "\n"
   ]
  },
  {
   "cell_type": "code",
   "execution_count": null,
   "id": "232143d0-8b42-457d-b841-70caa0e9025c",
   "metadata": {},
   "outputs": [],
   "source": []
  }
 ],
 "metadata": {
  "kernelspec": {
   "display_name": "Python 3 (ipykernel)",
   "language": "python",
   "name": "python3"
  },
  "language_info": {
   "codemirror_mode": {
    "name": "ipython",
    "version": 3
   },
   "file_extension": ".py",
   "mimetype": "text/x-python",
   "name": "python",
   "nbconvert_exporter": "python",
   "pygments_lexer": "ipython3",
   "version": "3.12.4"
  }
 },
 "nbformat": 4,
 "nbformat_minor": 5
}
